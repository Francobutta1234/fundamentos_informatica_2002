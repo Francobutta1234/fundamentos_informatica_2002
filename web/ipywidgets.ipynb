{
  "cells": [
    {
      "cell_type": "code",
      "execution_count": 9,
      "metadata": {
        "id": "1kwx9E6xAWwQ"
      },
      "outputs": [],
      "source": [
        "import ipywidgets as widgets\n",
        "from ipywidgets import VBox, HTML, Layout"
      ]
    },
    {
      "cell_type": "code",
      "execution_count": 13,
      "metadata": {},
      "outputs": [
        {
          "data": {
            "application/vnd.jupyter.widget-view+json": {
              "model_id": "73b634916f4a4d15860ef268514e7aed",
              "version_major": 2,
              "version_minor": 0
            },
            "text/plain": [
              "VBox(children=(HTML(value=\"\\n    <h1 style='font-size:25px; color:black'>\\n        <b>Welcome to my first API!…"
            ]
          },
          "metadata": {},
          "output_type": "display_data"
        },
        {
          "data": {
            "application/vnd.jupyter.widget-view+json": {
              "model_id": "608e620707064e4fadfc078d9e733f5d",
              "version_major": 2,
              "version_minor": 0
            },
            "text/plain": [
              "Layout(display='flex', flex_flow='flex-wrap', margin='0px 10px 5px 20px', padding='2px 4% 0 1%', width='61%')"
            ]
          },
          "metadata": {},
          "output_type": "display_data"
        }
      ],
      "source": [
        "h1_main_section = widgets.HTML(\"\"\"\n",
        "    <h1 style='font-size:25px; color:black'>\n",
        "        <b>Welcome to my first API!</b>\n",
        "    </h1>\"\"\")\n",
        "\n",
        "main_text = widgets.HTML(\"\"\"\n",
        "    <p style='font-size:25px; color:black'>\n",
        "    This is an API built in Python \n",
        "    </p>\"\"\")\n",
        "\n",
        "layouts_intro = Layout(display='flex',\n",
        "                    flex_flow='flex-wrap',\n",
        "                    flex_direction='column',\n",
        "                    width='61%',\n",
        "                    margin='0px 10px 5px 20px',\n",
        "                    padding='2px 4% 0 1%',)    \n",
        "\n",
        "main_section_vbox = widgets.VBox([h1_main_section, main_text], Layout=layouts_intro)\n",
        "\n",
        "\n",
        "display(main_section_vbox, layouts_intro)"
      ]
    }
  ],
  "metadata": {
    "colab": {
      "name": " ipywidgets.ipynb",
      "provenance": []
    },
    "interpreter": {
      "hash": "4b57ea038caab9384f7acfded5462c5d4dd66ec78b3aac770b766cf6b27685a8"
    },
    "kernelspec": {
      "display_name": "Python 3.10.2 64-bit",
      "language": "python",
      "name": "python3"
    },
    "language_info": {
      "codemirror_mode": {
        "name": "ipython",
        "version": 3
      },
      "file_extension": ".py",
      "mimetype": "text/x-python",
      "name": "python",
      "nbconvert_exporter": "python",
      "pygments_lexer": "ipython3",
      "version": "3.10.2"
    }
  },
  "nbformat": 4,
  "nbformat_minor": 0
}
